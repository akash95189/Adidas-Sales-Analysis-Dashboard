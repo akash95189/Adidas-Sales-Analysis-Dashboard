{
  "nbformat": 4,
  "nbformat_minor": 0,
  "metadata": {
    "colab": {
      "provenance": []
    },
    "kernelspec": {
      "name": "python3",
      "display_name": "Python 3"
    },
    "language_info": {
      "name": "python"
    }
  },
  "cells": [
    {
      "cell_type": "code",
      "execution_count": 1,
      "metadata": {
        "id": "4zo8DYC8nKSe"
      },
      "outputs": [],
      "source": [
        "from pyspark.sql import SparkSession\n",
        "\n",
        "spark = SparkSession.builder.appName('Adidas Sales Analysis').getOrCreate()"
      ]
    },
    {
      "cell_type": "code",
      "source": [
        "df = spark.read.csv('/content/Adidas_Clean_Dataset.csv', header = True, inferSchema=True)\n",
        "df.show()"
      ],
      "metadata": {
        "colab": {
          "base_uri": "https://localhost:8080/"
        },
        "id": "mN_1Fvi5nx9J",
        "outputId": "a07ee136-87ea-451d-be73-1897ae30777e"
      },
      "execution_count": 4,
      "outputs": [
        {
          "output_type": "stream",
          "name": "stdout",
          "text": [
            "+---+-----------+-----------+------------+---------+--------+--------+--------------------+--------------+----------+-----------+----------------+----------------+------------+\n",
            "|_c0|   Retailer|Retailer_ID|Invoice_Date|   Region|   State|    City|             Product|Price_per_Unit|Units_Sold|Total_Sales|Operating_Profit|Operating_Margin|Sales_Method|\n",
            "+---+-----------+-----------+------------+---------+--------+--------+--------------------+--------------+----------+-----------+----------------+----------------+------------+\n",
            "|  0|Foot Locker|    1185732|  01-01-2020|Northeast|New York|New York|Men's Street Foot...|          50.0|     1,200|   600000.0|        300000.0|             50%|    In-store|\n",
            "|  1|Foot Locker|    1185732|  02-01-2020|Northeast|New York|New York|Men's Athletic Fo...|          50.0|     1,000|   500000.0|        150000.0|             30%|    In-store|\n",
            "|  2|Foot Locker|    1185732|  03-01-2020|Northeast|New York|New York|Women's Street Fo...|          40.0|     1,000|   400000.0|        140000.0|             35%|    In-store|\n",
            "|  3|Foot Locker|    1185732|  04-01-2020|Northeast|New York|New York|Women's Athletic ...|          45.0|       850|   382500.0|        133875.0|             35%|    In-store|\n",
            "|  4|Foot Locker|    1185732|  05-01-2020|Northeast|New York|New York|       Men's Apparel|          60.0|       900|   540000.0|        162000.0|             30%|    In-store|\n",
            "|  5|Foot Locker|    1185732|  06-01-2020|Northeast|New York|New York|     Women's Apparel|          50.0|     1,000|   500000.0|        125000.0|             25%|    In-store|\n",
            "|  6|Foot Locker|    1185732|  07-01-2020|Northeast|New York|New York|Men's Street Foot...|          50.0|     1,250|   625000.0|        312500.0|             50%|    In-store|\n",
            "|  7|Foot Locker|    1185732|  08-01-2020|Northeast|New York|New York|Men's Athletic Fo...|          50.0|       900|   450000.0|        135000.0|             30%|      Outlet|\n",
            "|  8|Foot Locker|    1185732|  21-01-2020|Northeast|New York|New York|Women's Street Fo...|          40.0|       950|   380000.0|        133000.0|             35%|      Outlet|\n",
            "|  9|Foot Locker|    1185732|  22-01-2020|Northeast|New York|New York|Women's Athletic ...|          45.0|       825|   371250.0|        129938.0|             35%|      Outlet|\n",
            "| 10|Foot Locker|    1185732|  23-01-2020|Northeast|New York|New York|       Men's Apparel|          60.0|       900|   540000.0|        162000.0|             30%|      Outlet|\n",
            "| 11|Foot Locker|    1185732|  24-01-2020|Northeast|New York|New York|     Women's Apparel|          50.0|     1,000|   500000.0|        125000.0|             25%|      Outlet|\n",
            "| 12|Foot Locker|    1185732|  25-01-2020|Northeast|New York|New York|Men's Street Foot...|          50.0|     1,220|   610000.0|        305000.0|             50%|      Outlet|\n",
            "| 13|Foot Locker|    1185732|  26-01-2020|Northeast|New York|New York|Men's Athletic Fo...|          50.0|       925|   462500.0|        138750.0|             30%|      Outlet|\n",
            "| 14|Foot Locker|    1185732|  27-01-2020|Northeast|New York|New York|Women's Street Fo...|          40.0|       950|   380000.0|        133000.0|             35%|      Outlet|\n",
            "| 15|Foot Locker|    1185732|  28-01-2020|Northeast|New York|New York|Women's Athletic ...|          45.0|       800|   360000.0|        126000.0|             35%|      Outlet|\n",
            "| 16|Foot Locker|    1185732|  29-01-2020|Northeast|New York|New York|       Men's Apparel|          60.0|       850|   510000.0|        153000.0|             30%|      Outlet|\n",
            "| 17|Foot Locker|    1185732|  30-01-2020|Northeast|New York|New York|     Women's Apparel|          50.0|       950|   475000.0|        118750.0|             25%|      Outlet|\n",
            "| 18|Foot Locker|    1185732|  31-01-2020|Northeast|New York|New York|Men's Street Foot...|          50.0|     1,200|   600000.0|        300000.0|             50%|      Outlet|\n",
            "| 19|Foot Locker|    1185732|  01-02-2020|Northeast|New York|New York|Men's Athletic Fo...|          50.0|       900|   450000.0|        135000.0|             30%|      Outlet|\n",
            "+---+-----------+-----------+------------+---------+--------+--------+--------------------+--------------+----------+-----------+----------------+----------------+------------+\n",
            "only showing top 20 rows\n",
            "\n"
          ]
        }
      ]
    },
    {
      "cell_type": "code",
      "source": [
        "df = df.toDF(*[col.lower() for col in df.columns])\n",
        "df.show()"
      ],
      "metadata": {
        "colab": {
          "base_uri": "https://localhost:8080/"
        },
        "id": "m66Us2kWoBLU",
        "outputId": "a804a805-43ae-422c-d732-b391934b6255"
      },
      "execution_count": 5,
      "outputs": [
        {
          "output_type": "stream",
          "name": "stdout",
          "text": [
            "+---+-----------+-----------+------------+---------+--------+--------+--------------------+--------------+----------+-----------+----------------+----------------+------------+\n",
            "|_c0|   retailer|retailer_id|invoice_date|   region|   state|    city|             product|price_per_unit|units_sold|total_sales|operating_profit|operating_margin|sales_method|\n",
            "+---+-----------+-----------+------------+---------+--------+--------+--------------------+--------------+----------+-----------+----------------+----------------+------------+\n",
            "|  0|Foot Locker|    1185732|  01-01-2020|Northeast|New York|New York|Men's Street Foot...|          50.0|     1,200|   600000.0|        300000.0|             50%|    In-store|\n",
            "|  1|Foot Locker|    1185732|  02-01-2020|Northeast|New York|New York|Men's Athletic Fo...|          50.0|     1,000|   500000.0|        150000.0|             30%|    In-store|\n",
            "|  2|Foot Locker|    1185732|  03-01-2020|Northeast|New York|New York|Women's Street Fo...|          40.0|     1,000|   400000.0|        140000.0|             35%|    In-store|\n",
            "|  3|Foot Locker|    1185732|  04-01-2020|Northeast|New York|New York|Women's Athletic ...|          45.0|       850|   382500.0|        133875.0|             35%|    In-store|\n",
            "|  4|Foot Locker|    1185732|  05-01-2020|Northeast|New York|New York|       Men's Apparel|          60.0|       900|   540000.0|        162000.0|             30%|    In-store|\n",
            "|  5|Foot Locker|    1185732|  06-01-2020|Northeast|New York|New York|     Women's Apparel|          50.0|     1,000|   500000.0|        125000.0|             25%|    In-store|\n",
            "|  6|Foot Locker|    1185732|  07-01-2020|Northeast|New York|New York|Men's Street Foot...|          50.0|     1,250|   625000.0|        312500.0|             50%|    In-store|\n",
            "|  7|Foot Locker|    1185732|  08-01-2020|Northeast|New York|New York|Men's Athletic Fo...|          50.0|       900|   450000.0|        135000.0|             30%|      Outlet|\n",
            "|  8|Foot Locker|    1185732|  21-01-2020|Northeast|New York|New York|Women's Street Fo...|          40.0|       950|   380000.0|        133000.0|             35%|      Outlet|\n",
            "|  9|Foot Locker|    1185732|  22-01-2020|Northeast|New York|New York|Women's Athletic ...|          45.0|       825|   371250.0|        129938.0|             35%|      Outlet|\n",
            "| 10|Foot Locker|    1185732|  23-01-2020|Northeast|New York|New York|       Men's Apparel|          60.0|       900|   540000.0|        162000.0|             30%|      Outlet|\n",
            "| 11|Foot Locker|    1185732|  24-01-2020|Northeast|New York|New York|     Women's Apparel|          50.0|     1,000|   500000.0|        125000.0|             25%|      Outlet|\n",
            "| 12|Foot Locker|    1185732|  25-01-2020|Northeast|New York|New York|Men's Street Foot...|          50.0|     1,220|   610000.0|        305000.0|             50%|      Outlet|\n",
            "| 13|Foot Locker|    1185732|  26-01-2020|Northeast|New York|New York|Men's Athletic Fo...|          50.0|       925|   462500.0|        138750.0|             30%|      Outlet|\n",
            "| 14|Foot Locker|    1185732|  27-01-2020|Northeast|New York|New York|Women's Street Fo...|          40.0|       950|   380000.0|        133000.0|             35%|      Outlet|\n",
            "| 15|Foot Locker|    1185732|  28-01-2020|Northeast|New York|New York|Women's Athletic ...|          45.0|       800|   360000.0|        126000.0|             35%|      Outlet|\n",
            "| 16|Foot Locker|    1185732|  29-01-2020|Northeast|New York|New York|       Men's Apparel|          60.0|       850|   510000.0|        153000.0|             30%|      Outlet|\n",
            "| 17|Foot Locker|    1185732|  30-01-2020|Northeast|New York|New York|     Women's Apparel|          50.0|       950|   475000.0|        118750.0|             25%|      Outlet|\n",
            "| 18|Foot Locker|    1185732|  31-01-2020|Northeast|New York|New York|Men's Street Foot...|          50.0|     1,200|   600000.0|        300000.0|             50%|      Outlet|\n",
            "| 19|Foot Locker|    1185732|  01-02-2020|Northeast|New York|New York|Men's Athletic Fo...|          50.0|       900|   450000.0|        135000.0|             30%|      Outlet|\n",
            "+---+-----------+-----------+------------+---------+--------+--------+--------------------+--------------+----------+-----------+----------------+----------------+------------+\n",
            "only showing top 20 rows\n",
            "\n"
          ]
        }
      ]
    },
    {
      "cell_type": "code",
      "source": [
        "df.printSchema()"
      ],
      "metadata": {
        "colab": {
          "base_uri": "https://localhost:8080/"
        },
        "id": "T6UYsU6mouSI",
        "outputId": "a8bb4459-a5f4-4b17-c1c4-a676582a714f"
      },
      "execution_count": 6,
      "outputs": [
        {
          "output_type": "stream",
          "name": "stdout",
          "text": [
            "root\n",
            " |-- _c0: integer (nullable = true)\n",
            " |-- retailer: string (nullable = true)\n",
            " |-- retailer_id: integer (nullable = true)\n",
            " |-- invoice_date: string (nullable = true)\n",
            " |-- region: string (nullable = true)\n",
            " |-- state: string (nullable = true)\n",
            " |-- city: string (nullable = true)\n",
            " |-- product: string (nullable = true)\n",
            " |-- price_per_unit: double (nullable = true)\n",
            " |-- units_sold: string (nullable = true)\n",
            " |-- total_sales: double (nullable = true)\n",
            " |-- operating_profit: double (nullable = true)\n",
            " |-- operating_margin: string (nullable = true)\n",
            " |-- sales_method: string (nullable = true)\n",
            "\n"
          ]
        }
      ]
    },
    {
      "cell_type": "code",
      "source": [
        "from pyspark.sql.functions import *\n",
        "df = df.withColumn(\"invoice_date\", to_date(\"invoice_date\", \"dd-MM-yyyy\"))\n",
        "df.printSchema()"
      ],
      "metadata": {
        "colab": {
          "base_uri": "https://localhost:8080/"
        },
        "id": "DTl4fUcHqafl",
        "outputId": "37950fa1-4dcc-489d-9c59-cbaa8e373945"
      },
      "execution_count": 13,
      "outputs": [
        {
          "output_type": "stream",
          "name": "stdout",
          "text": [
            "root\n",
            " |-- _c0: integer (nullable = true)\n",
            " |-- retailer: string (nullable = true)\n",
            " |-- retailer_id: integer (nullable = true)\n",
            " |-- invoice_date: date (nullable = true)\n",
            " |-- region: string (nullable = true)\n",
            " |-- state: string (nullable = true)\n",
            " |-- city: string (nullable = true)\n",
            " |-- product: string (nullable = true)\n",
            " |-- price_per_unit: double (nullable = true)\n",
            " |-- units_sold: string (nullable = true)\n",
            " |-- total_sales: double (nullable = true)\n",
            " |-- operating_profit: double (nullable = true)\n",
            " |-- operating_margin: string (nullable = true)\n",
            " |-- sales_method: string (nullable = true)\n",
            "\n"
          ]
        }
      ]
    },
    {
      "cell_type": "code",
      "source": [
        "df.createOrReplaceTempView('adidas')"
      ],
      "metadata": {
        "id": "FE2nJx8yo09r"
      },
      "execution_count": 14,
      "outputs": []
    },
    {
      "cell_type": "code",
      "source": [
        "result = spark.sql(\"\"\"\n",
        "  select * from adidas\n",
        "\"\"\")\n",
        "result.show()"
      ],
      "metadata": {
        "colab": {
          "base_uri": "https://localhost:8080/"
        },
        "id": "xsJzdWpRo4uw",
        "outputId": "717a0250-dc0e-410a-e57d-0af98038ad02"
      },
      "execution_count": 15,
      "outputs": [
        {
          "output_type": "stream",
          "name": "stdout",
          "text": [
            "+---+-----------+-----------+------------+---------+--------+--------+--------------------+--------------+----------+-----------+----------------+----------------+------------+\n",
            "|_c0|   retailer|retailer_id|invoice_date|   region|   state|    city|             product|price_per_unit|units_sold|total_sales|operating_profit|operating_margin|sales_method|\n",
            "+---+-----------+-----------+------------+---------+--------+--------+--------------------+--------------+----------+-----------+----------------+----------------+------------+\n",
            "|  0|Foot Locker|    1185732|  2020-01-01|Northeast|New York|New York|Men's Street Foot...|          50.0|     1,200|   600000.0|        300000.0|             50%|    In-store|\n",
            "|  1|Foot Locker|    1185732|  2020-01-02|Northeast|New York|New York|Men's Athletic Fo...|          50.0|     1,000|   500000.0|        150000.0|             30%|    In-store|\n",
            "|  2|Foot Locker|    1185732|  2020-01-03|Northeast|New York|New York|Women's Street Fo...|          40.0|     1,000|   400000.0|        140000.0|             35%|    In-store|\n",
            "|  3|Foot Locker|    1185732|  2020-01-04|Northeast|New York|New York|Women's Athletic ...|          45.0|       850|   382500.0|        133875.0|             35%|    In-store|\n",
            "|  4|Foot Locker|    1185732|  2020-01-05|Northeast|New York|New York|       Men's Apparel|          60.0|       900|   540000.0|        162000.0|             30%|    In-store|\n",
            "|  5|Foot Locker|    1185732|  2020-01-06|Northeast|New York|New York|     Women's Apparel|          50.0|     1,000|   500000.0|        125000.0|             25%|    In-store|\n",
            "|  6|Foot Locker|    1185732|  2020-01-07|Northeast|New York|New York|Men's Street Foot...|          50.0|     1,250|   625000.0|        312500.0|             50%|    In-store|\n",
            "|  7|Foot Locker|    1185732|  2020-01-08|Northeast|New York|New York|Men's Athletic Fo...|          50.0|       900|   450000.0|        135000.0|             30%|      Outlet|\n",
            "|  8|Foot Locker|    1185732|  2020-01-21|Northeast|New York|New York|Women's Street Fo...|          40.0|       950|   380000.0|        133000.0|             35%|      Outlet|\n",
            "|  9|Foot Locker|    1185732|  2020-01-22|Northeast|New York|New York|Women's Athletic ...|          45.0|       825|   371250.0|        129938.0|             35%|      Outlet|\n",
            "| 10|Foot Locker|    1185732|  2020-01-23|Northeast|New York|New York|       Men's Apparel|          60.0|       900|   540000.0|        162000.0|             30%|      Outlet|\n",
            "| 11|Foot Locker|    1185732|  2020-01-24|Northeast|New York|New York|     Women's Apparel|          50.0|     1,000|   500000.0|        125000.0|             25%|      Outlet|\n",
            "| 12|Foot Locker|    1185732|  2020-01-25|Northeast|New York|New York|Men's Street Foot...|          50.0|     1,220|   610000.0|        305000.0|             50%|      Outlet|\n",
            "| 13|Foot Locker|    1185732|  2020-01-26|Northeast|New York|New York|Men's Athletic Fo...|          50.0|       925|   462500.0|        138750.0|             30%|      Outlet|\n",
            "| 14|Foot Locker|    1185732|  2020-01-27|Northeast|New York|New York|Women's Street Fo...|          40.0|       950|   380000.0|        133000.0|             35%|      Outlet|\n",
            "| 15|Foot Locker|    1185732|  2020-01-28|Northeast|New York|New York|Women's Athletic ...|          45.0|       800|   360000.0|        126000.0|             35%|      Outlet|\n",
            "| 16|Foot Locker|    1185732|  2020-01-29|Northeast|New York|New York|       Men's Apparel|          60.0|       850|   510000.0|        153000.0|             30%|      Outlet|\n",
            "| 17|Foot Locker|    1185732|  2020-01-30|Northeast|New York|New York|     Women's Apparel|          50.0|       950|   475000.0|        118750.0|             25%|      Outlet|\n",
            "| 18|Foot Locker|    1185732|  2020-01-31|Northeast|New York|New York|Men's Street Foot...|          50.0|     1,200|   600000.0|        300000.0|             50%|      Outlet|\n",
            "| 19|Foot Locker|    1185732|  2020-02-01|Northeast|New York|New York|Men's Athletic Fo...|          50.0|       900|   450000.0|        135000.0|             30%|      Outlet|\n",
            "+---+-----------+-----------+------------+---------+--------+--------+--------------------+--------------+----------+-----------+----------------+----------------+------------+\n",
            "only showing top 20 rows\n",
            "\n"
          ]
        }
      ]
    },
    {
      "cell_type": "markdown",
      "source": [
        "Maximum Number of units sold"
      ],
      "metadata": {
        "id": "myzmwV76shp5"
      }
    },
    {
      "cell_type": "code",
      "source": [
        "result1 = spark.sql(\"\"\"\n",
        "  select *\n",
        "  from adidas\n",
        "  order by units_sold desc\n",
        "  limit 1;\n",
        "\"\"\")\n",
        "result1.show()"
      ],
      "metadata": {
        "colab": {
          "base_uri": "https://localhost:8080/"
        },
        "id": "UA3Z3Lvoo_ly",
        "outputId": "eaf6e7c0-0e9c-4bc6-a300-5ed1eaebef73"
      },
      "execution_count": 27,
      "outputs": [
        {
          "output_type": "stream",
          "name": "stdout",
          "text": [
            "+----+-----------+-----------+------------+---------+------------+------------+--------------------+--------------+----------+-----------+----------------+----------------+------------+\n",
            "| _c0|   retailer|retailer_id|invoice_date|   region|       state|        city|             product|price_per_unit|units_sold|total_sales|operating_profit|operating_margin|sales_method|\n",
            "+----+-----------+-----------+------------+---------+------------+------------+--------------------+--------------+----------+-----------+----------------+----------------+------------+\n",
            "|8169|Foot Locker|    1185732|  2021-11-28|Northeast|Pennsylvania|Philadelphia|Men's Athletic Fo...|          45.0|        99|     4455.0|          1737.0|             39%|      Outlet|\n",
            "+----+-----------+-----------+------------+---------+------------+------------+--------------------+--------------+----------+-----------+----------------+----------------+------------+\n",
            "\n"
          ]
        }
      ]
    },
    {
      "cell_type": "markdown",
      "source": [
        "Count of Products with Product Name"
      ],
      "metadata": {
        "id": "ddUYUD06smqG"
      }
    },
    {
      "cell_type": "code",
      "source": [
        "result2 = spark.sql(\"\"\"\n",
        "  select distinct product as products, count(product) as total_products\n",
        "  from adidas\n",
        "  group by Product;\n",
        "\"\"\")\n",
        "result2.show()"
      ],
      "metadata": {
        "colab": {
          "base_uri": "https://localhost:8080/"
        },
        "id": "KvIwgjj6pZc9",
        "outputId": "24e239cc-a14e-4bef-bb40-d6d219b8b265"
      },
      "execution_count": 10,
      "outputs": [
        {
          "output_type": "stream",
          "name": "stdout",
          "text": [
            "+--------------------+--------------+\n",
            "|            products|total_products|\n",
            "+--------------------+--------------+\n",
            "|Men's Athletic Fo...|          1610|\n",
            "|Women's Athletic ...|          1606|\n",
            "|       Men's Apparel|          1606|\n",
            "|     Women's Apparel|          1608|\n",
            "|Women's Street Fo...|          1608|\n",
            "|Men's Street Foot...|          1610|\n",
            "+--------------------+--------------+\n",
            "\n"
          ]
        }
      ]
    },
    {
      "cell_type": "markdown",
      "source": [
        "Count of City with City Name where products sold"
      ],
      "metadata": {
        "id": "1QFcwci7soIx"
      }
    },
    {
      "cell_type": "code",
      "source": [
        "result3 = spark.sql(\"\"\"\n",
        "  select distinct city, count(city) city_count\n",
        "  from adidas\n",
        "  group by city;\n",
        "\"\"\")\n",
        "result3.show()"
      ],
      "metadata": {
        "colab": {
          "base_uri": "https://localhost:8080/"
        },
        "id": "3kA5MuuppiAE",
        "outputId": "7d4f3d89-e5a7-422c-ea0e-b9d702ef92a9"
      },
      "execution_count": 19,
      "outputs": [
        {
          "output_type": "stream",
          "name": "stdout",
          "text": [
            "+-------------+----------+\n",
            "|         city|city_count|\n",
            "+-------------+----------+\n",
            "|   Charleston|       288|\n",
            "|      Phoenix|       216|\n",
            "|        Omaha|       144|\n",
            "|    Anchorage|       144|\n",
            "|       Dallas|       216|\n",
            "|   Manchester|       216|\n",
            "| Philadelphia|       216|\n",
            "|   Louisville|       144|\n",
            "|  Los Angeles|       216|\n",
            "| Indianapolis|       144|\n",
            "|San Francisco|       216|\n",
            "|Oklahoma City|       216|\n",
            "|      Detroit|       144|\n",
            "|     Portland|       360|\n",
            "|       Albany|       144|\n",
            "|        Boise|       216|\n",
            "|     Cheyenne|       144|\n",
            "|    St. Louis|       144|\n",
            "|   Birmingham|       216|\n",
            "|   Burlington|       216|\n",
            "+-------------+----------+\n",
            "only showing top 20 rows\n",
            "\n"
          ]
        }
      ]
    },
    {
      "cell_type": "markdown",
      "source": [
        "Maximum Profit by Adidas"
      ],
      "metadata": {
        "id": "ZlthSxXXsskz"
      }
    },
    {
      "cell_type": "code",
      "source": [
        "result4 = spark.sql(\"\"\"\n",
        "  select product, max(operating_profit) as max_profit\n",
        "  from adidas\n",
        "  group by 1;\n",
        "\"\"\")\n",
        "result4.show()"
      ],
      "metadata": {
        "colab": {
          "base_uri": "https://localhost:8080/"
        },
        "id": "WOw1K5qGr4Z4",
        "outputId": "adf1123f-51a5-49ce-f3a0-c76630a8a28b"
      },
      "execution_count": 33,
      "outputs": [
        {
          "output_type": "stream",
          "name": "stdout",
          "text": [
            "+--------------------+----------+\n",
            "|             product|max_profit|\n",
            "+--------------------+----------+\n",
            "|Men's Athletic Fo...|  285000.0|\n",
            "|Women's Athletic ...|  216000.0|\n",
            "|       Men's Apparel|  281250.0|\n",
            "|     Women's Apparel|  371250.0|\n",
            "|Women's Street Fo...|  266000.0|\n",
            "|Men's Street Foot...|  390000.0|\n",
            "+--------------------+----------+\n",
            "\n"
          ]
        }
      ]
    },
    {
      "cell_type": "markdown",
      "source": [
        "City with Maximum Unit Sold by Adidas"
      ],
      "metadata": {
        "id": "T3z8Pnnxsvzy"
      }
    },
    {
      "cell_type": "code",
      "source": [
        "result5 = spark.sql(\"\"\"\n",
        "  select distinct city, max(Units_sold) as Max_Units_Sold\n",
        "  from adidas\n",
        "  group by city;\n",
        "\"\"\")\n",
        "result5.show()"
      ],
      "metadata": {
        "colab": {
          "base_uri": "https://localhost:8080/"
        },
        "id": "ORH5vgyAsJ6X",
        "outputId": "f948cd3d-8108-4645-81e8-078d7591fc9e"
      },
      "execution_count": 18,
      "outputs": [
        {
          "output_type": "stream",
          "name": "stdout",
          "text": [
            "+-----------+--------------+\n",
            "|       city|Max_Units_Sold|\n",
            "+-----------+--------------+\n",
            "|     Albany|           950|\n",
            "|Albuquerque|            99|\n",
            "|  Anchorage|            98|\n",
            "|    Atlanta|            98|\n",
            "|  Baltimore|            91|\n",
            "|   Billings|            98|\n",
            "| Birmingham|            98|\n",
            "|      Boise|           925|\n",
            "|     Boston|            98|\n",
            "| Burlington|            99|\n",
            "| Charleston|            98|\n",
            "|  Charlotte|           975|\n",
            "|   Cheyenne|            91|\n",
            "|    Chicago|            94|\n",
            "|   Columbus|            98|\n",
            "|     Dallas|           975|\n",
            "|     Denver|            98|\n",
            "| Des Moines|            98|\n",
            "|    Detroit|            98|\n",
            "|      Fargo|            98|\n",
            "+-----------+--------------+\n",
            "only showing top 20 rows\n",
            "\n"
          ]
        }
      ]
    },
    {
      "cell_type": "markdown",
      "source": [
        "Information about Retailers"
      ],
      "metadata": {
        "id": "jWhkChYGszMo"
      }
    },
    {
      "cell_type": "code",
      "source": [
        "result6 = spark.sql(\"\"\"\n",
        "  select retailer, count(*) retailer_count\n",
        "  from adidas\n",
        "  group by 1;\n",
        "\"\"\")\n",
        "result6.show()"
      ],
      "metadata": {
        "colab": {
          "base_uri": "https://localhost:8080/"
        },
        "id": "qnxj468ZsY04",
        "outputId": "de8201df-9038-45af-9fa2-a5ae479d16e6"
      },
      "execution_count": 22,
      "outputs": [
        {
          "output_type": "stream",
          "name": "stdout",
          "text": [
            "+-------------+--------------+\n",
            "|     retailer|retailer_count|\n",
            "+-------------+--------------+\n",
            "|      Walmart|           626|\n",
            "|  Foot Locker|          2637|\n",
            "|    West Gear|          2374|\n",
            "|       Kohl's|          1030|\n",
            "|       Amazon|           949|\n",
            "|Sports Direct|          2032|\n",
            "+-------------+--------------+\n",
            "\n"
          ]
        }
      ]
    },
    {
      "cell_type": "markdown",
      "source": [
        "Maximum Sales by Adidas Retailers"
      ],
      "metadata": {
        "id": "3pFsXc1Ntxn9"
      }
    },
    {
      "cell_type": "code",
      "source": [
        "result7 = spark.sql(\"\"\"\n",
        "  select distinct retailer, max(total_sales) as total_sales\n",
        "  from adidas\n",
        "  group by Retailer;\n",
        "\"\"\")\n",
        "result7.show()"
      ],
      "metadata": {
        "colab": {
          "base_uri": "https://localhost:8080/"
        },
        "id": "19RFQjmatyFr",
        "outputId": "98d9d9cc-f97f-4234-8d28-39399b981486"
      },
      "execution_count": 23,
      "outputs": [
        {
          "output_type": "stream",
          "name": "stdout",
          "text": [
            "+-------------+-----------+\n",
            "|     retailer|total_sales|\n",
            "+-------------+-----------+\n",
            "|      Walmart|   825000.0|\n",
            "|  Foot Locker|   765000.0|\n",
            "|    West Gear|   825000.0|\n",
            "|       Kohl's|   520000.0|\n",
            "|       Amazon|   618750.0|\n",
            "|Sports Direct|   698750.0|\n",
            "+-------------+-----------+\n",
            "\n"
          ]
        }
      ]
    },
    {
      "cell_type": "markdown",
      "source": [
        "Maximum Price per Unit by Name of Product in Adidas"
      ],
      "metadata": {
        "id": "5UaL-RUat-aN"
      }
    },
    {
      "cell_type": "code",
      "source": [
        "result8 = spark.sql(\"\"\"\n",
        "  select product, max(price_per_unit) as max_price_per_unit\n",
        "  from adidas\n",
        "  group by 1;\n",
        "\"\"\")\n",
        "result8.show()"
      ],
      "metadata": {
        "colab": {
          "base_uri": "https://localhost:8080/"
        },
        "id": "6RdNvj6jt-zA",
        "outputId": "d16ac406-a6f0-434c-aa19-7c8a042fd384"
      },
      "execution_count": 24,
      "outputs": [
        {
          "output_type": "stream",
          "name": "stdout",
          "text": [
            "+--------------------+------------------+\n",
            "|             product|max_price_per_unit|\n",
            "+--------------------+------------------+\n",
            "|Men's Athletic Fo...|              95.0|\n",
            "|Women's Athletic ...|              90.0|\n",
            "|       Men's Apparel|              95.0|\n",
            "|     Women's Apparel|             110.0|\n",
            "|Women's Street Fo...|              95.0|\n",
            "|Men's Street Foot...|              95.0|\n",
            "+--------------------+------------------+\n",
            "\n"
          ]
        }
      ]
    },
    {
      "cell_type": "markdown",
      "source": [
        "Information About the last Products sold by Adidas in Year 2021"
      ],
      "metadata": {
        "id": "Ky5Dz1QCuV4i"
      }
    },
    {
      "cell_type": "code",
      "source": [
        "result9 = spark.sql(\"\"\"\n",
        "  select *\n",
        "  from adidas\n",
        "  where Invoice_Date = \"2021-12-31\";\n",
        "\"\"\")\n",
        "result9.show()"
      ],
      "metadata": {
        "colab": {
          "base_uri": "https://localhost:8080/"
        },
        "id": "GT6lHsMUuWx4",
        "outputId": "92c1b8f5-4d5d-4968-8643-702cc332bb68"
      },
      "execution_count": 26,
      "outputs": [
        {
          "output_type": "stream",
          "name": "stdout",
          "text": [
            "+----+-----------+-----------+------------+---------+------------+------------+-------------+--------------+----------+-----------+----------------+----------------+------------+\n",
            "| _c0|   retailer|retailer_id|invoice_date|   region|       state|        city|      product|price_per_unit|units_sold|total_sales|operating_profit|operating_margin|sales_method|\n",
            "+----+-----------+-----------+------------+---------+------------+------------+-------------+--------------+----------+-----------+----------------+----------------+------------+\n",
            "| 498|Foot Locker|    1185732|  2021-12-31|Northeast|Pennsylvania|Philadelphia|Men's Apparel|          70.0|       175|   122500.0|         42875.0|             35%|      Outlet|\n",
            "|1200|     Amazon|    1185732|  2021-12-31|Northeast|       Maine|    Portland|Men's Apparel|          55.0|       125|    68750.0|         17188.0|             25%|      Outlet|\n",
            "|4386|Foot Locker|    1185732|  2021-12-31|Northeast|Pennsylvania|Philadelphia|Men's Apparel|          63.0|        47|     2961.0|          1362.0|             46%|      Online|\n",
            "|5088|     Amazon|    1185732|  2021-12-31|Northeast|       Maine|    Portland|Men's Apparel|          52.0|        36|     1872.0|           693.0|             37%|      Online|\n",
            "|8202|Foot Locker|    1185732|  2021-12-31|Northeast|Pennsylvania|Philadelphia|Men's Apparel|          46.0|        56|     2576.0|          1005.0|             39%|      Outlet|\n",
            "+----+-----------+-----------+------------+---------+------------+------------+-------------+--------------+----------+-----------+----------------+----------------+------------+\n",
            "\n"
          ]
        }
      ]
    },
    {
      "cell_type": "markdown",
      "source": [
        "Count on No of Products sold on last day of 2021"
      ],
      "metadata": {
        "id": "MaZoVfy2uzsJ"
      }
    },
    {
      "cell_type": "code",
      "source": [
        "result10 = spark.sql(\"\"\"\n",
        "  select count(*) as No_oF_Products\n",
        "  from adidas\n",
        "  where Invoice_Date = \"2021-12-31\";\n",
        "\"\"\")\n",
        "result10.show()\n"
      ],
      "metadata": {
        "colab": {
          "base_uri": "https://localhost:8080/"
        },
        "id": "DOa32AAYuhM0",
        "outputId": "1f26e11f-8b08-497d-de60-c559f08c681e"
      },
      "execution_count": 28,
      "outputs": [
        {
          "output_type": "stream",
          "name": "stdout",
          "text": [
            "+--------------+\n",
            "|No_oF_Products|\n",
            "+--------------+\n",
            "|             5|\n",
            "+--------------+\n",
            "\n"
          ]
        }
      ]
    },
    {
      "cell_type": "markdown",
      "source": [
        "Total count of Sales method each City wise"
      ],
      "metadata": {
        "id": "TJ6fdJyAvO-U"
      }
    },
    {
      "cell_type": "code",
      "source": [
        "result11 = spark.sql(\"\"\"\n",
        "  select distinct sales_method, city, count(sales_method) as total_methods\n",
        "  from adidas\n",
        "  group by Sales_Method, city\n",
        "  order by sales_method;\n",
        "\"\"\")\n",
        "result11.show()"
      ],
      "metadata": {
        "colab": {
          "base_uri": "https://localhost:8080/"
        },
        "id": "-x3vR9jFvFZb",
        "outputId": "79172a8f-2aa6-4eec-d500-b0c0c676c2c5"
      },
      "execution_count": 29,
      "outputs": [
        {
          "output_type": "stream",
          "name": "stdout",
          "text": [
            "+------------+--------------+-------------+\n",
            "|sales_method|          city|total_methods|\n",
            "+------------+--------------+-------------+\n",
            "|    In-store|        Boston|           72|\n",
            "|    In-store|      Cheyenne|           72|\n",
            "|    In-store|      Hartford|           72|\n",
            "|    In-store|        Denver|           72|\n",
            "|    In-store|       Orlando|           50|\n",
            "|    In-store|    Burlington|           72|\n",
            "|    In-store|   New Orleans|           20|\n",
            "|    In-store|    Charleston|           72|\n",
            "|    In-store|      Portland|           72|\n",
            "|    In-store|       Detroit|           72|\n",
            "|    In-store|     St. Louis|           72|\n",
            "|    In-store|         Miami|           72|\n",
            "|    In-store|   Minneapolis|           26|\n",
            "|    In-store|Salt Lake City|           72|\n",
            "|    In-store|      Richmond|           72|\n",
            "|    In-store|       Seattle|           72|\n",
            "|    In-store|        Albany|           72|\n",
            "|    In-store|  Indianapolis|           72|\n",
            "|    In-store|         Fargo|           59|\n",
            "|    In-store|    Manchester|           28|\n",
            "+------------+--------------+-------------+\n",
            "only showing top 20 rows\n",
            "\n"
          ]
        }
      ]
    },
    {
      "cell_type": "markdown",
      "source": [
        "Maximum and Minimum Operting Margin for each City"
      ],
      "metadata": {
        "id": "LWCw953EvTrv"
      }
    },
    {
      "cell_type": "code",
      "source": [
        "result12 = spark.sql(\"\"\"\n",
        "  select city, max(Operating_margin), min(Operating_margin)\n",
        "  from adidas\n",
        "  group by city\n",
        "  order by city;\n",
        "\"\"\")\n",
        "result12.show()"
      ],
      "metadata": {
        "colab": {
          "base_uri": "https://localhost:8080/"
        },
        "id": "JhpqDGzYvUJP",
        "outputId": "2b3a204c-5fdf-4b7f-ec18-463bc83da744"
      },
      "execution_count": 32,
      "outputs": [
        {
          "output_type": "stream",
          "name": "stdout",
          "text": [
            "+-----------+---------------------+---------------------+\n",
            "|       city|max(Operating_margin)|min(Operating_margin)|\n",
            "+-----------+---------------------+---------------------+\n",
            "|     Albany|                  65%|                  25%|\n",
            "|Albuquerque|                  55%|                  25%|\n",
            "|  Anchorage|                  54%|                  15%|\n",
            "|    Atlanta|                  60%|                  25%|\n",
            "|  Baltimore|                  55%|                  30%|\n",
            "|   Billings|                  75%|                  25%|\n",
            "| Birmingham|                  80%|                  30%|\n",
            "|      Boise|                  69%|                  25%|\n",
            "|     Boston|                  60%|                  25%|\n",
            "| Burlington|                  60%|                  30%|\n",
            "| Charleston|                  65%|                  25%|\n",
            "|  Charlotte|                  65%|                  35%|\n",
            "|   Cheyenne|                  65%|                  25%|\n",
            "|    Chicago|                  65%|                  30%|\n",
            "|   Columbus|                  65%|                  35%|\n",
            "|     Dallas|                  70%|                  25%|\n",
            "|     Denver|                  77%|                  15%|\n",
            "| Des Moines|                  65%|                  30%|\n",
            "|    Detroit|                  70%|                  30%|\n",
            "|      Fargo|                  63%|                  30%|\n",
            "+-----------+---------------------+---------------------+\n",
            "only showing top 20 rows\n",
            "\n"
          ]
        }
      ]
    }
  ]
}